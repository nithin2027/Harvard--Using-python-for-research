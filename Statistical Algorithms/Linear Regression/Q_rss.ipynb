{
 "nbformat": 4,
 "nbformat_minor": 2,
 "metadata": {
  "language_info": {
   "name": "python",
   "codemirror_mode": {
    "name": "ipython",
    "version": 3
   },
   "version": "3.7.4-final"
  },
  "orig_nbformat": 2,
  "file_extension": ".py",
  "mimetype": "text/x-python",
  "name": "python",
  "npconvert_exporter": "python",
  "pygments_lexer": "ipython3",
  "version": 3,
  "kernelspec": {
   "name": "python3",
   "display_name": "Python 3"
  }
 },
 "cells": [
  {
   "cell_type": "markdown",
   "metadata": {},
   "source": [
    "## Computing Residual sum of squares"
   ]
  },
  {
   "cell_type": "code",
   "execution_count": 9,
   "metadata": {},
   "outputs": [],
   "source": [
    "import numpy as np \n",
    "import scipy.stats as ss "
   ]
  },
  {
   "cell_type": "code",
   "execution_count": 10,
   "metadata": {},
   "outputs": [],
   "source": [
    "def compute_rss(y_estimate, y): \n",
    "    return sum(np.power(y-y_estimate, 2)) "
   ]
  },
  {
   "cell_type": "code",
   "execution_count": 11,
   "metadata": {},
   "outputs": [],
   "source": [
    "def estimate_y(x, b_0, b_1): \n",
    "    return b_0 + b_1 * x "
   ]
  },
  {
   "cell_type": "code",
   "execution_count": 15,
   "metadata": {},
   "outputs": [
    {
     "output_type": "execute_result",
     "data": {
      "text/plain": "81.540007425512"
     },
     "metadata": {},
     "execution_count": 15
    }
   ],
   "source": [
    "np.random.seed(1)\n",
    "beta_0 = 2\n",
    "beta_1 = 5\n",
    "x = 10 * ss.uniform.rvs(size = 100)\n",
    "y = beta_0 + beta_1 * x + ss.norm.rvs(loc = 0, scale = 1, size = 100)\n",
    "rss = compute_rss(estimate_y(x, beta_0, beta_1), y) \n",
    "rss"
   ]
  }
 ]
}