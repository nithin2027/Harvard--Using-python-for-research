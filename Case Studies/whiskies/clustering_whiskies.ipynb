{
 "nbformat": 4,
 "nbformat_minor": 2,
 "metadata": {
  "language_info": {
   "name": "python",
   "codemirror_mode": {
    "name": "ipython",
    "version": 3
   },
   "version": "3.7.4-final"
  },
  "orig_nbformat": 2,
  "file_extension": ".py",
  "mimetype": "text/x-python",
  "name": "python",
  "npconvert_exporter": "python",
  "pygments_lexer": "ipython3",
  "version": 3,
  "kernelspec": {
   "name": "python3",
   "display_name": "Python 3"
  }
 },
 "cells": [
  {
   "cell_type": "code",
   "execution_count": 1,
   "metadata": {},
   "outputs": [],
   "source": [
    "import pandas as pd\n",
    "import numpy as np\n",
    "import matplotlib.pyplot as plt\n",
    "from sklearn.cluster.bicluster import SpectralCoclustering"
   ]
  },
  {
   "cell_type": "code",
   "execution_count": 2,
   "metadata": {},
   "outputs": [],
   "source": [
    "whisky = pd.read_csv('whiskies.txt')\n",
    "whisky['Region'] = pd.read_csv('regions.txt')\n",
    "flavors = whisky.iloc[:, 2:14]"
   ]
  },
  {
   "cell_type": "code",
   "execution_count": 3,
   "metadata": {},
   "outputs": [],
   "source": [
    "corr_flavors = pd.DataFrame.corr(flavors)\n",
    "corr_whisky = pd.DataFrame.corr(flavors.transpose())"
   ]
  },
  {
   "cell_type": "code",
   "execution_count": 4,
   "metadata": {},
   "outputs": [
    {
     "output_type": "execute_result",
     "data": {
      "text/plain": "SpectralCoclustering(init='k-means++', mini_batch=False, n_clusters=6,\n                     n_init=10, n_jobs=None, n_svd_vecs=None, random_state=0,\n                     svd_method='randomized')"
     },
     "metadata": {},
     "execution_count": 4
    }
   ],
   "source": [
    "model = SpectralCoclustering(n_clusters = 6, random_state = 0)\n",
    "model.fit(corr_whisky)"
   ]
  },
  {
   "cell_type": "code",
   "execution_count": 5,
   "metadata": {},
   "outputs": [
    {
     "output_type": "execute_result",
     "data": {
      "text/plain": "array([[False, False, False, False, False,  True, False, False, False,\n        False, False,  True, False,  True, False, False,  True, False,\n         True, False, False, False, False, False, False, False, False,\n        False, False, False, False, False,  True,  True,  True, False,\n        False, False,  True, False,  True, False, False, False, False,\n         True, False,  True,  True, False, False, False, False, False,\n         True, False, False, False, False,  True, False, False, False,\n        False, False, False, False, False, False,  True, False, False,\n         True, False, False, False, False, False, False, False,  True,\n        False, False,  True, False,  True],\n       [False, False, False, False, False, False, False, False, False,\n        False, False, False, False, False, False, False, False, False,\n        False,  True, False, False, False, False, False, False, False,\n        False, False, False, False, False, False, False, False, False,\n        False, False, False,  True, False, False, False, False, False,\n        False, False, False, False, False, False, False, False, False,\n        False,  True, False, False, False, False, False, False, False,\n        False, False, False,  True, False,  True, False, False, False,\n        False, False, False, False, False, False, False, False, False,\n        False, False, False, False, False],\n       [False,  True, False, False, False, False, False,  True, False,\n        False,  True, False, False, False, False, False, False, False,\n        False, False, False, False, False, False, False, False,  True,\n         True, False,  True, False, False, False, False, False, False,\n         True, False, False, False, False, False,  True,  True,  True,\n        False, False, False, False, False, False,  True,  True,  True,\n        False, False, False, False, False, False, False, False,  True,\n        False, False,  True, False, False, False, False,  True, False,\n        False, False,  True, False, False, False, False, False, False,\n        False,  True, False,  True, False],\n       [False, False,  True, False, False, False,  True, False, False,\n         True, False, False, False, False, False, False, False, False,\n        False, False,  True, False,  True, False,  True,  True, False,\n        False,  True, False,  True, False, False, False, False, False,\n        False,  True, False, False, False,  True, False, False, False,\n        False, False, False, False,  True,  True, False, False, False,\n        False, False, False, False, False, False,  True, False, False,\n        False, False, False, False, False, False, False, False, False,\n        False, False, False, False,  True, False, False,  True, False,\n         True, False, False, False, False],\n       [False, False, False,  True, False, False, False, False, False,\n        False, False, False, False, False, False, False, False, False,\n        False, False, False,  True, False,  True, False, False, False,\n        False, False, False, False, False, False, False, False, False,\n        False, False, False, False, False, False, False, False, False,\n        False, False, False, False, False, False, False, False, False,\n        False, False, False,  True,  True, False, False, False, False,\n        False, False, False, False, False, False, False, False, False,\n        False, False, False, False, False,  True, False, False, False,\n        False, False, False, False, False],\n       [ True, False, False, False,  True, False, False, False,  True,\n        False, False, False,  True, False,  True,  True, False,  True,\n        False, False, False, False, False, False, False, False, False,\n        False, False, False, False,  True, False, False, False,  True,\n        False, False, False, False, False, False, False, False, False,\n        False,  True, False, False, False, False, False, False, False,\n        False, False,  True, False, False, False, False,  True, False,\n         True,  True, False, False,  True, False, False, False,  True,\n        False,  True, False,  True, False, False,  True, False, False,\n        False, False, False, False, False]])"
     },
     "metadata": {},
     "execution_count": 5
    }
   ],
   "source": [
    "#arra : number of row clusters x number of rows in the data matrix\n",
    "#each row identifies a cluster (0->5)\n",
    "#each column ideentifies a row (0->85)\n",
    "model.rows_"
   ]
  },
  {
   "cell_type": "code",
   "execution_count": 6,
   "metadata": {},
   "outputs": [
    {
     "output_type": "execute_result",
     "data": {
      "text/plain": "array([20,  5, 19, 17,  6, 19])"
     },
     "metadata": {},
     "execution_count": 6
    }
   ],
   "source": [
    "#sum: finds out how many observations belogs to each cluster\n",
    "#The output tells how many whiskeys belong to cluster 0,1,2 etc\n",
    "#example 19 whiskeys belong to cluster 2\n",
    "np.sum(model.rows_, axis = 1)"
   ]
  },
  {
   "cell_type": "code",
   "execution_count": 7,
   "metadata": {},
   "outputs": [
    {
     "output_type": "execute_result",
     "data": {
      "text/plain": "array([1, 1, 1, 1, 1, 1, 1, 1, 1, 1, 1, 1, 1, 1, 1, 1, 1, 1, 1, 1, 1, 1,\n       1, 1, 1, 1, 1, 1, 1, 1, 1, 1, 1, 1, 1, 1, 1, 1, 1, 1, 1, 1, 1, 1,\n       1, 1, 1, 1, 1, 1, 1, 1, 1, 1, 1, 1, 1, 1, 1, 1, 1, 1, 1, 1, 1, 1,\n       1, 1, 1, 1, 1, 1, 1, 1, 1, 1, 1, 1, 1, 1, 1, 1, 1, 1, 1, 1])"
     },
     "metadata": {},
     "execution_count": 7
    }
   ],
   "source": [
    "#sum: all the rows we can find out how many clusters belong to each observation\n",
    "#expect 1\n",
    "np.sum(model.rows_, axis = 0)"
   ]
  },
  {
   "cell_type": "code",
   "execution_count": 8,
   "metadata": {},
   "outputs": [
    {
     "output_type": "execute_result",
     "data": {
      "text/plain": "array([5, 2, 3, 4, 5, 0, 3, 2, 5, 3, 2, 0, 5, 0, 5, 5, 0, 5, 0, 1, 3, 4,\n       3, 4, 3, 3, 2, 2, 3, 2, 3, 5, 0, 0, 0, 5, 2, 3, 0, 1, 0, 3, 2, 2,\n       2, 0, 5, 0, 0, 3, 3, 2, 2, 2, 0, 1, 5, 4, 4, 0, 3, 5, 2, 5, 5, 2,\n       1, 5, 1, 0, 2, 5, 0, 5, 2, 5, 3, 4, 5, 3, 0, 3, 2, 0, 2, 0],\n      dtype=int32)"
     },
     "metadata": {},
     "execution_count": 8
    }
   ],
   "source": [
    "#observation no1 -> cluster 5\n",
    "#observation no2 -> cluster 2\n",
    "#and so on\n",
    "#all the outputs have to be number 0 -> 5\n",
    "model.row_labels_"
   ]
  }
 ]
}