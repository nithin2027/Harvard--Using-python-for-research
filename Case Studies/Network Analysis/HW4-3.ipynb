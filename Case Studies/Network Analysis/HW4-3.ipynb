{
 "cells": [
  {
   "cell_type": "markdown",
   "metadata": {},
   "source": [
    "# Using Python for Research Homework: Week 4, Case Study 3\n",
    "\n",
    "Homophily is a property of networks.  Homophily occurs when nodes that are neighbors in a network also share a characteristic more often than nodes that are not network neighbors.  In this case study, we will investigate homophily of several characteristics of individuals connected in social networks in rural India."
   ]
  },
  {
   "cell_type": "code",
   "execution_count": 3,
   "metadata": {},
   "outputs": [],
   "source": [
    "import networkx as nx\n",
    "from collections import Counter\n",
    "import numpy as np\n",
    "import pandas as pd"
   ]
  },
  {
   "cell_type": "markdown",
   "metadata": {},
   "source": [
    "### Exercise 1\n",
    "In Exercise 1, we will calculate the chance homophily for an arbitrary characteristic. Homophily is the proportion of edges in the network whose constituent nodes share that characteristic.\n",
    "\n",
    "How much homophily do we expect by chance? If characteristics are distributed completely randomly, the probability that two nodes \\(x\\) and \\(y\\) share characteristic \\(a\\) is the probability both nodes have characteristic \\(a\\) , which is the marginal probability of \\(a\\) squared. The total probability that nodes \\(x\\) and \\(y\\) share their characteristic is therefore the sum of the square of the marginal probabilities of each characteristic in the network.\n",
    "\n",
    "<strong>Instructions</strong>\n",
    "<ul><li>Create a function <code>marginal_prob</code> that takes a dictionary <code>chars</code> with personal IDs as keys and characteristics as values; it should return a dictionary with characteristics as keys and their marginal probability (frequency of occurence of a characteristic divided by the sum of frequencies of each characteristic) as values.</li>\n",
    "<li>Create a function <code>chance_homophily(chars)</code> that takes a dictionary <code>chars</code> defined as above and computes the chance homophily (homophily due to chance alone) for that characteristic.</li>\n",
    "<li>A sample of three peoples' favorite colors is given in <code>favorite_colors</code>. Use your function to compute the chance homophily in this group, and store it as <code>color_homophily</code>.</li>\n",
    "<li>Print <code>color_homophily</code>.</li></ul>"
   ]
  },
  {
   "cell_type": "code",
   "execution_count": 21,
   "metadata": {},
   "outputs": [
    {
     "output_type": "stream",
     "name": "stdout",
     "text": "0.5555555555555556\n"
    }
   ],
   "source": [
    "def marginal_prob(chars):\n",
    "    return Counter(chars.values())\n",
    "        \n",
    "def chance_homophily(chars):\n",
    "    probs = marginal_prob(chars)\n",
    "    n = len(chars)\n",
    "    return np.sum([(x/n)**2 for x in probs.values()])\n",
    "\n",
    "favorite_colors = {\n",
    "    \"ankit\":  \"red\",\n",
    "    \"xiaoyu\": \"blue\",\n",
    "    \"mary\":   \"blue\"\n",
    "}\n",
    "color_homophily = chance_homophily(favorite_colors)\n",
    "print(color_homophily)"
   ]
  },
  {
   "cell_type": "markdown",
   "metadata": {},
   "source": [
    "### Exercise 2\n",
    "\n",
    "In the remaining exercises, we will calculate actual homophily in these village and compare the obtained values to those obtained by chance. In this exercise, we subset the data into individual villages and store them.\n",
    "\n",
    "#### Instructions \n",
    "\n",
    "- `individual_characteristics.dta` contains several characteristics for each individual in the dataset such as age, religion, and caste. Use the `pandas` library to read in and store these characteristics as a dataframe called `df`.\n",
    "- Store separate datasets for individuals belonging to Villages 1 and 2 as `df1` and `df2`, respectively.\n",
    "- Note that some attributes may be missing for some individuals. In this case study, we will ignore rows of data where some column information is missing.\n",
    "- Use the head method to display the first few entries of `df1`."
   ]
  },
  {
   "cell_type": "code",
   "execution_count": 10,
   "metadata": {},
   "outputs": [
    {
     "output_type": "execute_result",
     "data": {
      "text/plain": "   village  adjmatrix_key     pid  hhid  resp_id  resp_gend  \\\n0        1              5  100201  1002        1          1   \n1        1              6  100202  1002        2          2   \n2        1             23  100601  1006        1          1   \n3        1             24  100602  1006        2          2   \n4        1             27  100701  1007        1          1   \n\n                   resp_status  age  religion caste  ...       privategovt  \\\n0            Head of Household   38  HINDUISM   OBC  ...  PRIVATE BUSINESS   \n1  Spouse of Head of Household   27  HINDUISM   OBC  ...               NaN   \n2            Head of Household   29  HINDUISM   OBC  ...        OTHER LAND   \n3  Spouse of Head of Household   24  HINDUISM   OBC  ...  PRIVATE BUSINESS   \n4            Head of Household   58  HINDUISM   OBC  ...        OTHER LAND   \n\n  work_outside work_outside_freq shgparticipate shg_no savings savings_no  \\\n0          Yes               0.0             No    NaN      No        NaN   \n1          NaN               NaN             No    NaN      No        NaN   \n2           No               NaN             No    NaN      No        NaN   \n3           No               NaN            Yes    1.0     Yes        1.0   \n4           No               NaN             No    NaN      No        NaN   \n\n  electioncard rationcard rationcard_colour  \n0          Yes        Yes             GREEN  \n1          Yes        Yes             GREEN  \n2          Yes        Yes             GREEN  \n3          Yes         No               NaN  \n4          Yes        Yes             GREEN  \n\n[5 rows x 48 columns]",
      "text/html": "<div>\n<style scoped>\n    .dataframe tbody tr th:only-of-type {\n        vertical-align: middle;\n    }\n\n    .dataframe tbody tr th {\n        vertical-align: top;\n    }\n\n    .dataframe thead th {\n        text-align: right;\n    }\n</style>\n<table border=\"1\" class=\"dataframe\">\n  <thead>\n    <tr style=\"text-align: right;\">\n      <th></th>\n      <th>village</th>\n      <th>adjmatrix_key</th>\n      <th>pid</th>\n      <th>hhid</th>\n      <th>resp_id</th>\n      <th>resp_gend</th>\n      <th>resp_status</th>\n      <th>age</th>\n      <th>religion</th>\n      <th>caste</th>\n      <th>...</th>\n      <th>privategovt</th>\n      <th>work_outside</th>\n      <th>work_outside_freq</th>\n      <th>shgparticipate</th>\n      <th>shg_no</th>\n      <th>savings</th>\n      <th>savings_no</th>\n      <th>electioncard</th>\n      <th>rationcard</th>\n      <th>rationcard_colour</th>\n    </tr>\n  </thead>\n  <tbody>\n    <tr>\n      <td>0</td>\n      <td>1</td>\n      <td>5</td>\n      <td>100201</td>\n      <td>1002</td>\n      <td>1</td>\n      <td>1</td>\n      <td>Head of Household</td>\n      <td>38</td>\n      <td>HINDUISM</td>\n      <td>OBC</td>\n      <td>...</td>\n      <td>PRIVATE BUSINESS</td>\n      <td>Yes</td>\n      <td>0.0</td>\n      <td>No</td>\n      <td>NaN</td>\n      <td>No</td>\n      <td>NaN</td>\n      <td>Yes</td>\n      <td>Yes</td>\n      <td>GREEN</td>\n    </tr>\n    <tr>\n      <td>1</td>\n      <td>1</td>\n      <td>6</td>\n      <td>100202</td>\n      <td>1002</td>\n      <td>2</td>\n      <td>2</td>\n      <td>Spouse of Head of Household</td>\n      <td>27</td>\n      <td>HINDUISM</td>\n      <td>OBC</td>\n      <td>...</td>\n      <td>NaN</td>\n      <td>NaN</td>\n      <td>NaN</td>\n      <td>No</td>\n      <td>NaN</td>\n      <td>No</td>\n      <td>NaN</td>\n      <td>Yes</td>\n      <td>Yes</td>\n      <td>GREEN</td>\n    </tr>\n    <tr>\n      <td>2</td>\n      <td>1</td>\n      <td>23</td>\n      <td>100601</td>\n      <td>1006</td>\n      <td>1</td>\n      <td>1</td>\n      <td>Head of Household</td>\n      <td>29</td>\n      <td>HINDUISM</td>\n      <td>OBC</td>\n      <td>...</td>\n      <td>OTHER LAND</td>\n      <td>No</td>\n      <td>NaN</td>\n      <td>No</td>\n      <td>NaN</td>\n      <td>No</td>\n      <td>NaN</td>\n      <td>Yes</td>\n      <td>Yes</td>\n      <td>GREEN</td>\n    </tr>\n    <tr>\n      <td>3</td>\n      <td>1</td>\n      <td>24</td>\n      <td>100602</td>\n      <td>1006</td>\n      <td>2</td>\n      <td>2</td>\n      <td>Spouse of Head of Household</td>\n      <td>24</td>\n      <td>HINDUISM</td>\n      <td>OBC</td>\n      <td>...</td>\n      <td>PRIVATE BUSINESS</td>\n      <td>No</td>\n      <td>NaN</td>\n      <td>Yes</td>\n      <td>1.0</td>\n      <td>Yes</td>\n      <td>1.0</td>\n      <td>Yes</td>\n      <td>No</td>\n      <td>NaN</td>\n    </tr>\n    <tr>\n      <td>4</td>\n      <td>1</td>\n      <td>27</td>\n      <td>100701</td>\n      <td>1007</td>\n      <td>1</td>\n      <td>1</td>\n      <td>Head of Household</td>\n      <td>58</td>\n      <td>HINDUISM</td>\n      <td>OBC</td>\n      <td>...</td>\n      <td>OTHER LAND</td>\n      <td>No</td>\n      <td>NaN</td>\n      <td>No</td>\n      <td>NaN</td>\n      <td>No</td>\n      <td>NaN</td>\n      <td>Yes</td>\n      <td>Yes</td>\n      <td>GREEN</td>\n    </tr>\n  </tbody>\n</table>\n<p>5 rows × 48 columns</p>\n</div>"
     },
     "metadata": {},
     "execution_count": 10
    }
   ],
   "source": [
    "df  = pd.read_csv(\"https://courses.edx.org/asset-v1:HarvardX+PH526x+2T2019+type@asset+block@individual_characteristics.csv\", low_memory=False, index_col=0)\n",
    "df1 = df[df.village==1]\n",
    "df2 = df[df.village==2]\n",
    "\n",
    "df1.head()"
   ]
  },
  {
   "cell_type": "markdown",
   "metadata": {},
   "source": [
    "### Exercise 3 \n",
    "\n",
    "In this exercise, we define a few dictionaries that enable us to look up the sex, caste, and religion of members of each village by personal ID. For Villages 1 and 2, their personal IDs are stored as `pid`.\n",
    "\n",
    "#### Instructions \n",
    "- Define dictionaries with personal IDs as keys and a given covariate for that individual as values. Complete this for the sex, caste, and religion covariates, for Villages 1 and 2.\n",
    "- For Village 1, store these dictionaries into variables named `sex1`, `caste1`, and `religion1`.\n",
    "- For Village 2, store these dictionaries into variables named `sex2`, `caste2`, and `religion2`."
   ]
  },
  {
   "cell_type": "code",
   "execution_count": 11,
   "metadata": {},
   "outputs": [
    {
     "output_type": "execute_result",
     "data": {
      "text/plain": "'OBC'"
     },
     "metadata": {},
     "execution_count": 11
    }
   ],
   "source": [
    "pid1s = list(df1.pid)\n",
    "\n",
    "sex1      = { pid: sex for pid, sex in zip(pid1s, list(df1.resp_gend)) }\n",
    "caste1    = { pid: caste for pid, caste in zip(pid1s, list(df1.caste)) }\n",
    "religion1 = { pid: religion for pid, religion in zip(pid1s, list(df1.religion)) }\n",
    "\n",
    "# Continue for df2 as well.\n",
    "pid2s = list(df2.pid)\n",
    "\n",
    "sex2      = { pid: sex for pid, sex in zip(pid2s, list(df2.resp_gend)) }\n",
    "caste2    = { pid: caste for pid, caste in zip(pid2s, list(df2.caste)) }\n",
    "religion2 = { pid: religion for pid, religion in zip(pid2s, list(df2.religion)) }\n",
    "\n",
    "#Homework question\n",
    "caste2[202802]"
   ]
  },
  {
   "cell_type": "markdown",
   "metadata": {},
   "source": [
    "### Exercise 4\n",
    "\n",
    "In this exercise, we will print the chance homophily of several characteristics of Villages 1 and 2. \n",
    "\n",
    "#### Instructions \n",
    "-  Use `chance_homophily` to compute the chance homophily for sex, caste, and religion In Villages 1 and 2. Is the chance homophily for any attribute very high for either village?"
   ]
  },
  {
   "cell_type": "code",
   "execution_count": 12,
   "metadata": {},
   "outputs": [
    {
     "output_type": "stream",
     "name": "stdout",
     "text": "0.5027299861680701 0.6741488509791551 0.9804896988521925\n0.5005945303210464 0.425368244800893 1.0\n"
    }
   ],
   "source": [
    "chs1 = chance_homophily(sex1)\n",
    "chc1 = chance_homophily(caste1)\n",
    "chr1 = chance_homophily(religion1)\n",
    "\n",
    "print(chs1, chc1, chr1)\n",
    "\n",
    "chs2 = chance_homophily(sex2)\n",
    "chc2 = chance_homophily(caste2)\n",
    "chr2 = chance_homophily(religion2)\n",
    "\n",
    "print(chs2, chc2, chr2)"
   ]
  },
  {
   "cell_type": "markdown",
   "metadata": {},
   "source": [
    "### Exercise 5\n",
    "\n",
    "In this exercise, we will create a function that computes the observed homophily given a village and characteristic.\n",
    "\n",
    "#### Instructions \n",
    "- Complete the function `homophily()`, which takes a network `G`, a dictionary of node characteristics `chars`, and node IDs `IDs`. For each node pair, determine whether a tie exists between them, as well as whether they share a characteristic. The total count of these is `num_ties` and `num_same_ties`, respectively, and their ratio is the homophily of chars in `G`. Complete the function by choosing where to increment `num_same_ties` and `num_ties`."
   ]
  },
  {
   "cell_type": "code",
   "execution_count": 15,
   "metadata": {},
   "outputs": [],
   "source": [
    "def homophily(G, chars, IDs):\n",
    "    \"\"\"\n",
    "    Given a network G, a dict of characteristics chars for node IDs,\n",
    "    and dict of node IDs for each node in the network,\n",
    "    find the homophily of the network.\n",
    "    \"\"\"\n",
    "    num_same_ties = 0\n",
    "    num_ties = 0\n",
    "    for n1, n2 in G.edges():\n",
    "        if IDs[n1] in chars and IDs[n2] in chars:\n",
    "            if G.has_edge(n1, n2):\n",
    "                num_ties += 1\n",
    "                if chars[IDs[n1]] == chars[IDs[n2]]:\n",
    "                    num_same_ties += 1\n",
    "    return (num_same_ties / num_ties)"
   ]
  },
  {
   "cell_type": "markdown",
   "metadata": {},
   "source": [
    "### Exercise 6\n",
    "\n",
    "In this exercise, we will obtain the personal IDs for Villages 1 and 2. These will be used in the next exercise to calculate homophily for these villages.\n",
    "\n",
    "#### Instructions \n",
    "- In this dataset, each individual has a personal ID, or PID, stored in `key_vilno_1.csv` and `key_vilno_2.csv` for villages 1 and 2, respectively. `data_filepath1` and `data_filepath2` contain the URLs to the datasets used in this exercise. Use `pd.read_csv` to read in and store `key_vilno_1.csv` and `key_vilno_2.csv` as `pid1` and `pid2` respectively. "
   ]
  },
  {
   "cell_type": "code",
   "execution_count": 16,
   "metadata": {},
   "outputs": [
    {
     "output_type": "execute_result",
     "data": {
      "text/plain": "Unnamed: 0       100\n0             102205\nName: 100, dtype: int64"
     },
     "metadata": {},
     "execution_count": 16
    }
   ],
   "source": [
    "data_filepath1 = \"https://courses.edx.org/asset-v1:HarvardX+PH526x+2T2019+type@asset+block@key_vilno_1.csv\"\n",
    "data_filepath2 = \"https://courses.edx.org/asset-v1:HarvardX+PH526x+2T2019+type@asset+block@key_vilno_2.csv\"\n",
    "\n",
    "pid1 = pd.read_csv(data_filepath1)\n",
    "pid2 = pd.read_csv(data_filepath2)\n",
    "\n",
    "pid1.iloc[100]"
   ]
  },
  {
   "cell_type": "markdown",
   "metadata": {},
   "source": [
    "### Exercise 7\n",
    "\n",
    "In this exercise, we will compute the homophily of several network characteristics for Villages 1 and 2 and compare them to homophily due to chance alone. The networks for these villages have been stored as networkx graph objects `G1` and `G2`.\n",
    "\n",
    "#### Instructions \n",
    "\n",
    "- Use your `homophily()` function to compute the observed homophily for sex, caste, and religion in Villages 1 and 2. Print all six values.\n",
    "- Use the `chance_homophily()` to compare these values to chance homophily. Are these values higher or lower than that expected by chance?"
   ]
  },
  {
   "cell_type": "code",
   "execution_count": 17,
   "metadata": {},
   "outputs": [
    {
     "output_type": "stream",
     "name": "stdout",
     "text": "sex1: True\ncaste1: True\nreligion1 True\nsex2: True\ncaste2: True\nreligion2 False\n"
    }
   ],
   "source": [
    "A1 = np.array(pd.read_csv(\"https://courses.edx.org/asset-v1:HarvardX+PH526x+2T2019+type@asset+block@adj_allVillageRelationships_vilno1.csv\", index_col=0))\n",
    "A2 = np.array(pd.read_csv(\"https://courses.edx.org/asset-v1:HarvardX+PH526x+2T2019+type@asset+block@adj_allVillageRelationships_vilno2.csv\", index_col=0))\n",
    "G1 = nx.to_networkx_graph(A1)\n",
    "G2 = nx.to_networkx_graph(A2)\n",
    "\n",
    "pid1 = np.array(pd.read_csv(data_filepath1, dtype=int)['0'])\n",
    "pid2 = np.array(pd.read_csv(data_filepath2, dtype=int)['0'])\n",
    "\n",
    "# Enter your code here!\n",
    "hsex1 = homophily(G1, sex1, pid1)\n",
    "hcaste1 = homophily(G1, caste1, pid1)\n",
    "hreligion1 = homophily(G1, religion1, pid1)\n",
    "\n",
    "hsex2 = homophily(G2, sex2, pid2)\n",
    "hcaste2 = homophily(G2, caste2, pid2)\n",
    "hreligion2 = homophily(G2, religion2, pid2)\n",
    "\n",
    "print('sex1:', hsex1 > chs1)\n",
    "print('caste1:', hcaste1 > chc1)\n",
    "print('religion1', hreligion1 > chr1)\n",
    "\n",
    "print('sex2:', hsex2 > chs2)\n",
    "print('caste2:', hcaste2 > chc2)\n",
    "print('religion2', hreligion2 > chr2)"
   ]
  }
 ],
 "metadata": {
  "kernelspec": {
   "display_name": "Python 3",
   "language": "python",
   "name": "python3"
  },
  "language_info": {
   "codemirror_mode": {
    "name": "ipython",
    "version": 3
   },
   "file_extension": ".py",
   "mimetype": "text/x-python",
   "name": "python",
   "nbconvert_exporter": "python",
   "pygments_lexer": "ipython3",
   "version": "3.7.4-final"
  },
  "toc": {
   "base_numbering": 1,
   "nav_menu": {},
   "number_sections": false,
   "sideBar": true,
   "skip_h1_title": false,
   "title_cell": "Table of Contents",
   "title_sidebar": "Contents",
   "toc_cell": false,
   "toc_position": {},
   "toc_section_display": true,
   "toc_window_display": true
  }
 },
 "nbformat": 4,
 "nbformat_minor": 2
}